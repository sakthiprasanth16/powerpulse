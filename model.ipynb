{
 "cells": [
  {
   "cell_type": "code",
   "execution_count": 2,
   "id": "83ed1a36",
   "metadata": {},
   "outputs": [],
   "source": [
    "import pandas as pd\n",
    "data = pd.read_csv(\"E:\\\\Sakthi\\\\prasanth\\\\projects\\\\household\\\\power\\\\Scripts\\\\processed_data.csv\")"
   ]
  },
  {
   "cell_type": "code",
   "execution_count": 3,
   "id": "031c3971",
   "metadata": {},
   "outputs": [
    {
     "data": {
      "text/plain": [
       "Index(['Datetime', 'Date', 'Time', 'Global_active_power',\n",
       "       'Global_reactive_power', 'Voltage', 'Global_intensity',\n",
       "       'Sub_metering_1', 'Sub_metering_2', 'Sub_metering_3', 'hour', 'day',\n",
       "       'weekday', 'month', 'is_weekend', 'is_peak_hour', 'daily_avg_power',\n",
       "       'power_rolling_3h', 'power_rolling_6h', 'power_rolling_1d'],\n",
       "      dtype='object')"
      ]
     },
     "execution_count": 3,
     "metadata": {},
     "output_type": "execute_result"
    }
   ],
   "source": [
    "data.columns"
   ]
  },
  {
   "cell_type": "code",
   "execution_count": 4,
   "id": "c38b9034",
   "metadata": {},
   "outputs": [],
   "source": [
    "from sklearn.metrics import r2_score, mean_squared_error, mean_absolute_error\n",
    "import numpy as np\n",
    "from sklearn.preprocessing import StandardScaler\n",
    "import pickle\n",
    "import os\n",
    "\n",
    "\n",
    "os.makedirs(\"models\", exist_ok=True)\n",
    "\n",
    "def evaluate_model(name, model, X_train_scaled,  X_test_scaled, y_train, y_test):\n",
    "    # Train the model\n",
    "    model.fit(X_train_scaled, y_train)\n",
    "\n",
    "    # Predict on test data\n",
    "    y_pred = model.predict(X_test_scaled)\n",
    "\n",
    "    # Model Evaluation\n",
    "    r2 = r2_score(y_test, y_pred)\n",
    "    rmse = np.sqrt(mean_squared_error(y_test, y_pred))\n",
    "    mae = mean_absolute_error(y_test, y_pred)\n",
    "\n",
    "    # Results\n",
    "    print(f\"\\n{name} Model Evaluation:\")\n",
    "    print(f\"R² Score : {r2:.4f}\")\n",
    "    print(f\"RMSE     : {rmse:.4f}\")\n",
    "    print(f\"MAE      : {mae:.4f}\")\n",
    "\n",
    "    # Save the model\n",
    "    model_path = f'models/{name.lower().replace(\" \", \"_\")}_model.pkl'\n",
    "    with open(model_path, 'wb') as f:\n",
    "        pickle.dump(model, f)\n",
    "\n"
   ]
  },
  {
   "cell_type": "code",
   "execution_count": 6,
   "id": "234e25e0",
   "metadata": {},
   "outputs": [],
   "source": [
    "# Choose features and target\n",
    "features = [\n",
    "    'Global_reactive_power', 'Voltage',\n",
    "    'Sub_metering_1', 'Sub_metering_2', 'Sub_metering_3',\n",
    "    'hour', 'day', 'weekday', 'month', 'is_weekend', 'is_peak_hour',\n",
    "    'daily_avg_power', 'power_rolling_3h', 'power_rolling_6h', 'power_rolling_1d'\n",
    "]\n",
    "\n",
    "X = data[features]\n",
    "y = data['Global_active_power']\n",
    "\n",
    "# Train-test split\n",
    "from sklearn.model_selection import train_test_split\n",
    "X_train, X_test, y_train, y_test = train_test_split(\n",
    "    X, y, test_size=0.2, random_state=42\n",
    ")\n",
    "\n",
    "# Scale the data\n",
    "scaler = StandardScaler()\n",
    "X_train_scaled = scaler.fit_transform(X_train)\n",
    "X_test_scaled = scaler.transform(X_test)"
   ]
  },
  {
   "cell_type": "code",
   "execution_count": 7,
   "id": "cd0e9474",
   "metadata": {},
   "outputs": [
    {
     "name": "stdout",
     "output_type": "stream",
     "text": [
      "\n",
      "Linear Regression Model Evaluation:\n",
      "R² Score : 0.9702\n",
      "RMSE     : 0.1346\n",
      "MAE      : 0.0604\n"
     ]
    }
   ],
   "source": [
    "from sklearn.linear_model import LinearRegression\n",
    "evaluate_model(\"Linear Regression\", LinearRegression(), X_train_scaled, X_test_scaled, y_train, y_test)"
   ]
  },
  {
   "cell_type": "code",
   "execution_count": 8,
   "id": "a516891b",
   "metadata": {},
   "outputs": [
    {
     "name": "stdout",
     "output_type": "stream",
     "text": [
      "\n",
      "KNN Model Evaluation:\n",
      "R² Score : 0.9763\n",
      "RMSE     : 0.1200\n",
      "MAE      : 0.0454\n"
     ]
    }
   ],
   "source": [
    "from sklearn.neighbors import KNeighborsRegressor\n",
    "evaluate_model(\"KNN\", KNeighborsRegressor(), X_train_scaled, X_test_scaled, y_train, y_test)"
   ]
  },
  {
   "cell_type": "code",
   "execution_count": 9,
   "id": "105d4a7f",
   "metadata": {},
   "outputs": [
    {
     "name": "stdout",
     "output_type": "stream",
     "text": [
      "\n",
      "Neural Net Model Evaluation:\n",
      "R² Score : 0.9814\n",
      "RMSE     : 0.1063\n",
      "MAE      : 0.0446\n"
     ]
    }
   ],
   "source": [
    "from sklearn.neural_network import MLPRegressor \n",
    "evaluate_model(\"Neural Net\", MLPRegressor(hidden_layer_sizes=(64, 32), max_iter=300, random_state=42), X_train_scaled, X_test_scaled, y_train, y_test) # The first layer has 64 neurons to capture higher-level patterns, and the second layer has 32 neurons to refine those patterns."
   ]
  },
  {
   "cell_type": "code",
   "execution_count": 12,
   "id": "81ff0c25",
   "metadata": {},
   "outputs": [
    {
     "name": "stdout",
     "output_type": "stream",
     "text": [
      "\n",
      "Random Forest Model Evaluation:\n",
      "R² Score : 0.9802\n",
      "RMSE     : 0.1097\n",
      "MAE      : 0.0408\n"
     ]
    }
   ],
   "source": [
    "from sklearn.ensemble import RandomForestRegressor\n",
    "evaluate_model(\"Random Forest\", RandomForestRegressor(n_estimators=20, random_state=42), X_train_scaled, X_test_scaled, y_train, y_test)"
   ]
  },
  {
   "cell_type": "code",
   "execution_count": 10,
   "id": "3bc7272e",
   "metadata": {},
   "outputs": [
    {
     "name": "stdout",
     "output_type": "stream",
     "text": [
      "\n",
      "Gradient Boosting Model Evaluation:\n",
      "R² Score : 0.9511\n",
      "RMSE     : 0.1723\n",
      "MAE      : 0.1111\n"
     ]
    }
   ],
   "source": [
    "from sklearn.ensemble import GradientBoostingRegressor\n",
    "evaluate_model(\"Gradient Boosting\", GradientBoostingRegressor(n_estimators=20, random_state=42), X_train_scaled, X_test_scaled, y_train, y_test)"
   ]
  },
  {
   "cell_type": "code",
   "execution_count": 11,
   "id": "4196f74b",
   "metadata": {},
   "outputs": [
    {
     "name": "stdout",
     "output_type": "stream",
     "text": [
      "\n",
      "XGBoost Model Evaluation:\n",
      "R² Score : 0.9779\n",
      "RMSE     : 0.1159\n",
      "MAE      : 0.0464\n"
     ]
    }
   ],
   "source": [
    "from xgboost import XGBRegressor\n",
    "evaluate_model(\"XGBoost\", XGBRegressor(n_estimators=20, random_state=42), X_train_scaled, X_test_scaled, y_train, y_test)"
   ]
  },
  {
   "cell_type": "code",
   "execution_count": null,
   "id": "0fc5099f",
   "metadata": {},
   "outputs": [],
   "source": [
    "import pickle\n",
    "import matplotlib.pyplot as plt\n",
    "import numpy as np\n",
    "import pandas as pd\n",
    "import os\n",
    "\n",
    "# Define feature names used during training\n",
    "features = [\n",
    "    'Global_reactive_power', 'Voltage',\n",
    "    'Sub_metering_1', 'Sub_metering_2', 'Sub_metering_3',\n",
    "    'hour', 'day', 'weekday', 'month', 'is_weekend', 'is_peak_hour',\n",
    "    'daily_avg_power', 'power_rolling_3h', 'power_rolling_6h', 'power_rolling_1d'\n",
    "]\n",
    "\n",
    "# List of model filenames\n",
    "model_files = {\n",
    "    \"Random Forest\": \"models/random_forest_model.pkl\",\n",
    "    \"Gradient Boosting\": \"models/gradient_boosting_model.pkl\",\n",
    "    \"XGBoost\": \"models/xgboost_model.pkl\",\n",
    "    \"Linear Regression\": \"models/linear_regression_model.pkl\",\n",
    "}\n",
    "\n",
    "# Loop through models and plot feature importance or coefficients\n",
    "for model_name, file_path in model_files.items():\n",
    "    if not os.path.exists(file_path):\n",
    "        print(f\"{model_name} model file not found: {file_path}\")\n",
    "        continue\n",
    "\n",
    "    with open(file_path, 'rb') as f:\n",
    "        model = pickle.load(f)\n",
    "\n",
    "    print(f\"\\nFeature importance for: {model_name}\")\n",
    "\n",
    "    try:\n",
    "        # For tree-based models\n",
    "        if hasattr(model, \"feature_importances_\"):\n",
    "            importances = model.feature_importances_\n",
    "            title = \"Feature Importance\"\n",
    "        elif hasattr(model, \"coef_\"):  # For Linear Regression\n",
    "            importances = np.abs(model.coef_)\n",
    "            title = \"Coefficient Magnitude\"\n",
    "        else:\n",
    "            print(f\"{model_name} does not support feature importance directly.\")\n",
    "            continue\n",
    "\n",
    "        # Convert to DataFrame and sort\n",
    "        importance_df = pd.DataFrame({\n",
    "            'Feature': features,\n",
    "            'Importance': importances\n",
    "        }).sort_values(by='Importance', ascending=False)\n",
    "\n",
    "        # Plot\n",
    "        plt.figure(figsize=(8, 5))\n",
    "        plt.barh(importance_df['Feature'], importance_df['Importance'], color='skyblue')\n",
    "        plt.gca().invert_yaxis()\n",
    "        plt.title(f\"{title}: {model_name}\")\n",
    "        plt.xlabel(\"Score\")\n",
    "        plt.tight_layout()\n",
    "        plt.show()\n",
    "\n",
    "    except Exception as e:\n",
    "        print(f\"Error processing {model_name}: {e}\")\n"
   ]
  }
 ],
 "metadata": {
  "kernelspec": {
   "display_name": "power (3.11.8)",
   "language": "python",
   "name": "python3"
  },
  "language_info": {
   "codemirror_mode": {
    "name": "ipython",
    "version": 3
   },
   "file_extension": ".py",
   "mimetype": "text/x-python",
   "name": "python",
   "nbconvert_exporter": "python",
   "pygments_lexer": "ipython3",
   "version": "3.11.8"
  }
 },
 "nbformat": 4,
 "nbformat_minor": 5
}
